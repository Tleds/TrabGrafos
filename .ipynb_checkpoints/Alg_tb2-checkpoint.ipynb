{
 "cells": [
  {
   "cell_type": "markdown",
   "metadata": {},
   "source": [
    "Segundo Trabalho de Grafos"
   ]
  },
  {
   "cell_type": "code",
   "execution_count": 1,
   "metadata": {},
   "outputs": [],
   "source": [
    "#Biblioteca para desenhar o grafo\n",
    "\n",
    "import networkx as nx"
   ]
  },
  {
   "cell_type": "code",
   "execution_count": 2,
   "metadata": {},
   "outputs": [],
   "source": [
    "#Função para desenhar o Grafo\n",
    "def printGraph(G):\n",
    "    pos=nx.spring_layout(G)\n",
    "    labels = {}\n",
    "    for idx, node in enumerate(G.nodes()):\n",
    "        labels[node] = node \n",
    "    nx.draw_networkx_nodes(G, pos)\n",
    "    nx.draw_networkx_edges(G, pos)\n",
    "    nx.draw_networkx_labels(G, pos, labels, font_size=12)"
   ]
  },
  {
   "cell_type": "code",
   "execution_count": 3,
   "metadata": {},
   "outputs": [],
   "source": [
    "#obtem o numero de computadores e fios\n",
    "M_W = input('Digite Quantidade Computadores e fios: ') \n",
    "#Cria um grafo usando a Biblioteca descrita no inicio\n",
    "g = nx.Graph()\n",
    "#Split para pegar a quantidade de Computadores (Machine) \n",
    "M = int(M_W.split(' ')[0])\n",
    "#Split para pegar a quantidade de Fios (Wires)\n",
    "W = int(M_W.split(' ')[1]) \n",
    "ListaVertices = []"
   ]
  },
  {
   "cell_type": "code",
   "execution_count": 5,
   "metadata": {},
   "outputs": [],
   "source": [
    "for x in range(M - 2):\n",
    "    ID_M = input('Digite ID computador e Peso: ')#ID computador e Valor de destruição. [M,P] M = Machine, P = Peso\n",
    "    T = ID_M.split(' ')\n",
    "    X = T[0]\n",
    "    P = int(T[1])\n",
    "    #Atribui vpeso para uma aresta - No caso o computador foi transformado num vertice com 2 arestas\n",
    "    g.add_edge((X + 'a'),(X + 'b'),  capacity = P)\n",
    "    ListaVertices.append(X)"
   ]
  },
  {
   "cell_type": "code",
   "execution_count": 6,
   "metadata": {},
   "outputs": [],
   "source": [
    "#Esse 'for' é para colocar os valores das arestas de acordo com o numero de fios (W) dado na primeira entrada\n",
    "\n",
    "for x in range(W):\n",
    "    ID_W = input('Digite vertice inicial, vertice final e peso: ') #Aresta e peso. [X,Y,P] X = ArestaInicial, Y = ArestaFinal, P = Peso\n",
    "    T = ID_W.split(' ')\n",
    "    X = T[0]#Origem\n",
    "    Y = T[1]#Destino\n",
    "    P = int(T[2])\n",
    "    if X=='1':\n",
    "        'Atribui vpeso para uma aresta - Vertice Inicial(Computador do chefe) Liga no inicial da aresta \"Quebrada\"(Representado pela letra \"a\")'\n",
    "        g.add_edge(X, (Y+'a') ,capacity = P)#'função da biblioteca'\n",
    "    elif Y== str(M):   \n",
    "        'Atribui vpeso para uma aresta - Final do vertica \"Quebrado\"Representado pela letra \"b\") liga no Vertice final(Servidor)'\n",
    "        g.add_edge((X+'b'), Y, capacity =P)#'função da biblioteca'\n",
    "    else:\n",
    "        \n",
    "         g.add_edge((X+'b'), (Y+'a') ,capacity = P)#'função da biblioteca'"
   ]
  },
  {
   "cell_type": "code",
   "execution_count": 8,
   "metadata": {},
   "outputs": [
    {
     "data": {
      "image/png": "[encoded data removed]",
      "text/plain": [
       "<Figure size 432x288 with 1 Axes>"
      ]
     },
     "metadata": {},
     "output_type": "display_data"
    }
   ],
   "source": [
    "#imprime o grafo, usando a biblioteca\n",
    "printGraph(g)"
   ]
  },
  {
   "cell_type": "code",
   "execution_count": 7,
   "metadata": {},
   "outputs": [
    {
     "name": "stdout",
     "output_type": "stream",
     "text": [
      "Valor de Saída: 4\n"
     ]
    }
   ],
   "source": [
    "#Aplicando o corte mínimo e retornando o resultado\n",
    "Cut = nx.minimum_cut_value(g,'1',str(M))\n",
    "print('Valor de Saída: '+ str(Cut))"
   ]
  },
  {
   "cell_type": "code",
   "execution_count": null,
   "metadata": {},
   "outputs": [],
   "source": []
  }
 ],
 "metadata": {
  "kernelspec": {
   "display_name": "Python 3",
   "language": "python",
   "name": "python3"
  },
  "language_info": {
   "codemirror_mode": {
    "name": "ipython",
    "version": 3
   },
   "file_extension": ".py",
   "mimetype": "text/x-python",
   "name": "python",
   "nbconvert_exporter": "python",
   "pygments_lexer": "ipython3",
   "version": "3.6.5"
  }
 },
 "nbformat": 4,
 "nbformat_minor": 2
}
